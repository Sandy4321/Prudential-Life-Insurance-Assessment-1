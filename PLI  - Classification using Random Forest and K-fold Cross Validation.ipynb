{
 "cells": [
  {
   "cell_type": "code",
   "execution_count": 2,
   "metadata": {
    "collapsed": true
   },
   "outputs": [],
   "source": [
    "import pandas as pd\n",
    "import numpy as np\n",
    "from pandas import Series, DataFrame\n",
    "from sklearn.cross_validation import train_test_split\n",
    "from sklearn.neighbors import KNeighborsClassifier\n",
    "from sklearn.cross_validation import cross_val_score\n",
    "from sklearn.ensemble import RandomForestClassifier\n",
    "import matplotlib as plt\n",
    "% matplotlib inline"
   ]
  },
  {
   "cell_type": "code",
   "execution_count": 3,
   "metadata": {
    "collapsed": false
   },
   "outputs": [],
   "source": [
    "PLI_train = DataFrame(pd.read_csv(\"train.csv\"))"
   ]
  },
  {
   "cell_type": "code",
   "execution_count": 4,
   "metadata": {
    "collapsed": true
   },
   "outputs": [],
   "source": [
    "PLI_test = DataFrame(pd.read_csv(\"test.csv\"))"
   ]
  },
  {
   "cell_type": "code",
   "execution_count": 5,
   "metadata": {
    "collapsed": true
   },
   "outputs": [],
   "source": [
    "PLI_test_1 = DataFrame(pd.read_csv(\"test.csv\"))"
   ]
  },
  {
   "cell_type": "code",
   "execution_count": 6,
   "metadata": {
    "collapsed": true
   },
   "outputs": [],
   "source": [
    "PLI_train = PLI_train.fillna(PLI_train.median())"
   ]
  },
  {
   "cell_type": "code",
   "execution_count": 7,
   "metadata": {
    "collapsed": true
   },
   "outputs": [],
   "source": [
    "PLI_test = PLI_test.fillna(PLI_test.median())"
   ]
  },
  {
   "cell_type": "code",
   "execution_count": 8,
   "metadata": {
    "collapsed": true
   },
   "outputs": [],
   "source": [
    "y_train = PLI_train[\"Response\"]\n",
    "PLI_train = PLI_train.drop(['Response','Id','Product_Info_2'], axis = 1)\n",
    "PLI_test = PLI_test.drop(['Id','Product_Info_2'], axis = 1)"
   ]
  },
  {
   "cell_type": "code",
   "execution_count": 9,
   "metadata": {
    "collapsed": true
   },
   "outputs": [],
   "source": [
    "PLI_train = PLI_train.astype(float)"
   ]
  },
  {
   "cell_type": "code",
   "execution_count": 10,
   "metadata": {
    "collapsed": true
   },
   "outputs": [],
   "source": [
    "PLI_test = PLI_test.astype(float)"
   ]
  },
  {
   "cell_type": "markdown",
   "metadata": {},
   "source": [
    "## Breaking the train data into two sets of 70-30 or 80-20. Now run the model on the first set of train data(70 or 80%) and then test it with the remaining train data(30 or 20%). See the accuracy."
   ]
  },
  {
   "cell_type": "code",
   "execution_count": 11,
   "metadata": {
    "collapsed": true
   },
   "outputs": [],
   "source": [
    "x_train = PLI_train\n",
    "test = PLI_test\n",
    "X_train,X_test,Y_train,Y_test = train_test_split(x_train,y_train)"
   ]
  },
  {
   "cell_type": "markdown",
   "metadata": {},
   "source": [
    "## Let's do K-fold crossvalidation with Random Forest"
   ]
  },
  {
   "cell_type": "markdown",
   "metadata": {},
   "source": [
    "### Using broken training data set"
   ]
  },
  {
   "cell_type": "code",
   "execution_count": 23,
   "metadata": {
    "collapsed": false
   },
   "outputs": [
    {
     "name": "stdout",
     "output_type": "stream",
     "text": [
      "[ 0.52018843  0.5232219   0.51829405  0.53255501  0.51538289  0.50392993\n",
      "  0.51841869  0.51594789  0.51336778  0.51078652]\n",
      "0.517209308081\n"
     ]
    }
   ],
   "source": [
    "PLI_RF_1 = RandomForestClassifier(n_estimators = 10, criterion = 'gini')\n",
    "scores = cross_val_score(PLI_RF_1, X_train, Y_train, cv = 10, scoring = 'accuracy')\n",
    "print(scores)\n",
    "print(scores.mean())"
   ]
  },
  {
   "cell_type": "code",
   "execution_count": 25,
   "metadata": {
    "collapsed": false
   },
   "outputs": [
    {
     "name": "stdout",
     "output_type": "stream",
     "text": [
      "[ 0.52355316  0.53017725  0.52368126  0.51638976  0.52706041  0.50258253\n",
      "  0.5285265   0.51999102  0.50954842  0.51797753]\n",
      "0.519948783289\n"
     ]
    }
   ],
   "source": [
    "PLI_RF_2 = RandomForestClassifier(n_estimators = 10, criterion = 'gini', bootstrap = False)\n",
    "scores = cross_val_score(PLI_RF_2, X_train, Y_train, cv = 10, scoring = 'accuracy')\n",
    "print(scores)\n",
    "print(scores.mean())"
   ]
  },
  {
   "cell_type": "code",
   "execution_count": 27,
   "metadata": {
    "collapsed": false
   },
   "outputs": [
    {
     "name": "stdout",
     "output_type": "stream",
     "text": [
      "[ 0.54733064  0.53937626  0.53737374  0.53367759  0.53402201  0.52840781\n",
      "  0.53279425  0.5321204   0.538306    0.53438202]\n",
      "0.535779072297\n"
     ]
    }
   ],
   "source": [
    "PLI_RF_3 = RandomForestClassifier(n_estimators = 10, criterion = 'gini', max_features = None)\n",
    "scores = cross_val_score(PLI_RF_3, X_train, Y_train, cv = 10, scoring = 'accuracy')\n",
    "print(scores)\n",
    "print(scores.mean())"
   ]
  },
  {
   "cell_type": "code",
   "execution_count": 31,
   "metadata": {
    "collapsed": false
   },
   "outputs": [
    {
     "name": "stdout",
     "output_type": "stream",
     "text": [
      "[ 0.49125168  0.49091317  0.49225589  0.48136507  0.48506625  0.47383786\n",
      "  0.49371069  0.47955975  0.49898899  0.49438202]\n",
      "0.488133137358\n"
     ]
    }
   ],
   "source": [
    "PLI_RF_4 = RandomForestClassifier(n_estimators = 10, criterion = 'gini', max_features = 'log2')\n",
    "scores = cross_val_score(PLI_RF_4, X_train, Y_train, cv = 10, scoring = 'accuracy')\n",
    "print(scores)\n",
    "print(scores.mean())"
   ]
  },
  {
   "cell_type": "code",
   "execution_count": 33,
   "metadata": {
    "collapsed": false
   },
   "outputs": [
    {
     "name": "stdout",
     "output_type": "stream",
     "text": [
      "[ 0.45737999  0.4462643   0.45476992  0.44095195  0.44935998  0.44419492\n",
      "  0.44362084  0.44002695  0.45562795  0.43393258]\n",
      "0.44661294077\n"
     ]
    }
   ],
   "source": [
    "PLI_RF_5 = RandomForestClassifier(n_estimators = 10, criterion = 'gini', max_features = None, bootstrap = False)\n",
    "scores = cross_val_score(PLI_RF_5, X_train, Y_train, cv = 10, scoring = 'accuracy')\n",
    "print(scores)\n",
    "print(scores.mean())"
   ]
  },
  {
   "cell_type": "code",
   "execution_count": 34,
   "metadata": {
    "collapsed": false
   },
   "outputs": [
    {
     "name": "stdout",
     "output_type": "stream",
     "text": [
      "[ 0.58165096  0.57998654  0.58204265  0.58105074  0.57130025  0.56770716\n",
      "  0.57861635  0.57389937  0.57762301  0.57168539]\n",
      "0.576556242553\n"
     ]
    }
   ],
   "source": [
    "PLI_RF_6 = RandomForestClassifier(n_estimators = 200, criterion = 'gini')\n",
    "scores = cross_val_score(PLI_RF_6, X_train, Y_train, cv = 10, scoring = 'accuracy')\n",
    "print(scores)\n",
    "print(scores.mean())"
   ]
  },
  {
   "cell_type": "code",
   "execution_count": 14,
   "metadata": {
    "collapsed": false
   },
   "outputs": [
    {
     "name": "stdout",
     "output_type": "stream",
     "text": [
      "[ 0.58366981  0.57652603  0.58249158  0.58900112  0.57678491  0.58333333\n",
      "  0.57502246  0.56738544  0.58526174  0.57955056]\n",
      "0.579902699729\n"
     ]
    }
   ],
   "source": [
    "PLI_RF_7 = RandomForestClassifier(n_estimators = 200, criterion = 'gini', max_features = None)\n",
    "scores = cross_val_score(PLI_RF_7, X_train, Y_train, cv = 10, scoring = 'accuracy')\n",
    "print(scores)\n",
    "print(scores.mean())"
   ]
  },
  {
   "cell_type": "markdown",
   "metadata": {},
   "source": [
    "## Run the best model with the original train data (x_train, y_train) to see the accuracy of our model."
   ]
  },
  {
   "cell_type": "code",
   "execution_count": 15,
   "metadata": {
    "collapsed": true
   },
   "outputs": [],
   "source": [
    "PLI_RF_main = PLI_RF_7.fit(x_train, y_train)"
   ]
  },
  {
   "cell_type": "markdown",
   "metadata": {},
   "source": [
    "## Testing the model on the original test set (test = PLI_test)"
   ]
  },
  {
   "cell_type": "code",
   "execution_count": 16,
   "metadata": {
    "collapsed": false
   },
   "outputs": [],
   "source": [
    "Prediction = PLI_RF_main.predict(test)"
   ]
  },
  {
   "cell_type": "code",
   "execution_count": 17,
   "metadata": {
    "collapsed": false
   },
   "outputs": [
    {
     "name": "stdout",
     "output_type": "stream",
     "text": [
      "[7 8 6 ..., 1 2 4]\n"
     ]
    }
   ],
   "source": [
    "print(Prediction)"
   ]
  },
  {
   "cell_type": "code",
   "execution_count": 73,
   "metadata": {
    "collapsed": true
   },
   "outputs": [],
   "source": [
    "Response = Prediction"
   ]
  },
  {
   "cell_type": "code",
   "execution_count": 81,
   "metadata": {
    "collapsed": true
   },
   "outputs": [],
   "source": [
    "Result1 = pd.DataFrame()"
   ]
  },
  {
   "cell_type": "code",
   "execution_count": null,
   "metadata": {
    "collapsed": true
   },
   "outputs": [],
   "source": [
    "ID = PLI_test_1['Id']"
   ]
  },
  {
   "cell_type": "code",
   "execution_count": 82,
   "metadata": {
    "collapsed": true
   },
   "outputs": [],
   "source": [
    "Result1['Id'] = ID"
   ]
  },
  {
   "cell_type": "code",
   "execution_count": 83,
   "metadata": {
    "collapsed": true
   },
   "outputs": [],
   "source": [
    "Result1['Response'] = Response"
   ]
  },
  {
   "cell_type": "code",
   "execution_count": 84,
   "metadata": {
    "collapsed": false
   },
   "outputs": [
    {
     "data": {
      "text/html": [
       "<div>\n",
       "<table border=\"1\" class=\"dataframe\">\n",
       "  <thead>\n",
       "    <tr style=\"text-align: right;\">\n",
       "      <th></th>\n",
       "      <th>Id</th>\n",
       "      <th>Response</th>\n",
       "    </tr>\n",
       "  </thead>\n",
       "  <tbody>\n",
       "    <tr>\n",
       "      <th>0</th>\n",
       "      <td>1</td>\n",
       "      <td>7</td>\n",
       "    </tr>\n",
       "    <tr>\n",
       "      <th>1</th>\n",
       "      <td>3</td>\n",
       "      <td>8</td>\n",
       "    </tr>\n",
       "    <tr>\n",
       "      <th>2</th>\n",
       "      <td>4</td>\n",
       "      <td>6</td>\n",
       "    </tr>\n",
       "    <tr>\n",
       "      <th>3</th>\n",
       "      <td>9</td>\n",
       "      <td>8</td>\n",
       "    </tr>\n",
       "  </tbody>\n",
       "</table>\n",
       "</div>"
      ],
      "text/plain": [
       "   Id  Response\n",
       "0   1         7\n",
       "1   3         8\n",
       "2   4         6\n",
       "3   9         8"
      ]
     },
     "execution_count": 84,
     "metadata": {},
     "output_type": "execute_result"
    }
   ],
   "source": [
    "Result1.head(4)"
   ]
  },
  {
   "cell_type": "code",
   "execution_count": 85,
   "metadata": {
    "collapsed": true
   },
   "outputs": [],
   "source": [
    "Result1.to_csv('Result1.csv', index = False)"
   ]
  }
 ],
 "metadata": {
  "kernelspec": {
   "display_name": "Python 3",
   "language": "python",
   "name": "python3"
  },
  "language_info": {
   "codemirror_mode": {
    "name": "ipython",
    "version": 3
   },
   "file_extension": ".py",
   "mimetype": "text/x-python",
   "name": "python",
   "nbconvert_exporter": "python",
   "pygments_lexer": "ipython3",
   "version": "3.5.1"
  }
 },
 "nbformat": 4,
 "nbformat_minor": 0
}
